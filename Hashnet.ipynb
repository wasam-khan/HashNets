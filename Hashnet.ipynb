{
  "cells": [
    {
      "cell_type": "markdown",
      "metadata": {
        "id": "RUXRnjzX6nAL"
      },
      "source": [
        "**Hash Function**"
      ]
    },
    {
      "cell_type": "code",
      "execution_count": 1,
      "metadata": {
        "colab": {
          "base_uri": "https://localhost:8080/"
        },
        "id": "499tJJ_06x5Z",
        "outputId": "1ae89d07-5d1f-447b-935a-3d66eddc097b"
      },
      "outputs": [
        {
          "output_type": "stream",
          "name": "stdout",
          "text": [
            "Collecting openai-clip\n",
            "  Downloading openai-clip-1.0.1.tar.gz (1.4 MB)\n",
            "\u001b[2K     \u001b[90m━━━━━━━━━━━━━━━━━━━━━━━━━━━━━━━━━━━━━━━━\u001b[0m \u001b[32m1.4/1.4 MB\u001b[0m \u001b[31m9.5 MB/s\u001b[0m eta \u001b[36m0:00:00\u001b[0m\n",
            "\u001b[?25h  Preparing metadata (setup.py) ... \u001b[?25l\u001b[?25hdone\n",
            "Collecting ftfy (from openai-clip)\n",
            "  Downloading ftfy-6.2.0-py3-none-any.whl (54 kB)\n",
            "\u001b[2K     \u001b[90m━━━━━━━━━━━━━━━━━━━━━━━━━━━━━━━━━━━━━━━━\u001b[0m \u001b[32m54.4/54.4 kB\u001b[0m \u001b[31m5.2 MB/s\u001b[0m eta \u001b[36m0:00:00\u001b[0m\n",
            "\u001b[?25hRequirement already satisfied: regex in /usr/local/lib/python3.10/dist-packages (from openai-clip) (2023.12.25)\n",
            "Requirement already satisfied: tqdm in /usr/local/lib/python3.10/dist-packages (from openai-clip) (4.66.4)\n",
            "Requirement already satisfied: wcwidth<0.3.0,>=0.2.12 in /usr/local/lib/python3.10/dist-packages (from ftfy->openai-clip) (0.2.13)\n",
            "Building wheels for collected packages: openai-clip\n",
            "  Building wheel for openai-clip (setup.py) ... \u001b[?25l\u001b[?25hdone\n",
            "  Created wheel for openai-clip: filename=openai_clip-1.0.1-py3-none-any.whl size=1368605 sha256=efc5825bd6a8507ffa1f53a9021088459aa392ae8b3a4ad5b5c7a65c936576c1\n",
            "  Stored in directory: /root/.cache/pip/wheels/08/77/8e/8d2f862df6bf7fb4e2007062d2cbaeae49862ec7b56d041229\n",
            "Successfully built openai-clip\n",
            "Installing collected packages: ftfy, openai-clip\n",
            "Successfully installed ftfy-6.2.0 openai-clip-1.0.1\n"
          ]
        }
      ],
      "source": [
        "!pip install openai-clip\n"
      ]
    },
    {
      "cell_type": "markdown",
      "source": [
        "**Clip Encoder**"
      ],
      "metadata": {
        "id": "3yo9DgAHLAir"
      }
    },
    {
      "cell_type": "code",
      "execution_count": 2,
      "metadata": {
        "id": "hT6PDTbX8rxL"
      },
      "outputs": [],
      "source": [
        "\"\"\"\n",
        "This file is used to encode the images into clip vector\n",
        "\"\"\"\n",
        "\n",
        "import torch\n",
        "import clip\n",
        "from PIL import Image\n",
        "\n",
        "class Vectorizer:\n",
        "    def __init__(self) -> None:\n",
        "        self.device = \"cuda\" if torch.cuda.is_available() else \"cpu\"\n",
        "        self.model, self.preprocess = clip.load(\"ViT-B/32\", device=self.device)\n",
        "\n",
        "    def vectorize_img(self,pilImg):\n",
        "\n",
        "        assert isinstance(pilImg, Image.Image), \"Input is not a PIL image.\"\n",
        "\n",
        "        image = self.preprocess(pilImg).unsqueeze(0).to(self.device)\n",
        "        with torch.no_grad():\n",
        "            image_features = self.model.encode_image(image)\n",
        "\n",
        "        return image_features\n",
        "\n",
        "\n",
        "    def vectorize_text(self,text):\n",
        "        assert type(text) == str, \"Expected text to be of type string\"\n",
        "\n",
        "        text = clip.tokenize([text]).to(self.device)\n",
        "\n",
        "        with torch.no_grad():\n",
        "            text_features = self.model.encode_text(text)\n",
        "\n",
        "        return text_features\n"
      ]
    },
    {
      "cell_type": "markdown",
      "source": [
        "Xor Function"
      ],
      "metadata": {
        "id": "wgdSYDLcLKDD"
      }
    },
    {
      "cell_type": "code",
      "execution_count": 3,
      "metadata": {
        "id": "NA6BsrXV8xpI"
      },
      "outputs": [],
      "source": [
        "\"\"\"\n",
        "This file is used to vectorize the whole target file\n",
        "\"\"\"\n",
        "\n",
        "import os\n",
        "import torch\n",
        "\n",
        "class Processor:\n",
        "    \"\"\"can be used to obtain the vectors of chunks from file\"\"\"\n",
        "    def __init__(self,chunk_size=30) -> None:\n",
        "        self.vectorizer = Vectorizer()\n",
        "        self.chunk_size = chunk_size\n",
        "        self.unique_feature = None\n",
        "\n",
        "    def getXors(self,vecs):\n",
        "        scale = 10\n",
        "\n",
        "        assert type(vecs) is list ,\"expected a list\"\n",
        "\n",
        "        elems = len(vecs)\n",
        "        base = (vecs[0]*scale).to(torch.int)\n",
        "\n",
        "        for i in range(1,elems):\n",
        "            base = base ^ ((scale*vecs[i]).to(torch.int))\n",
        "\n",
        "\n",
        "        # adding additional layer of security by using feature specific to the file being hashed only\n",
        "\n",
        "        base = (base ^ ((scale*self.unique_feature).to(torch.int))).tolist()\n",
        "\n",
        "        return base\n",
        "\n",
        "    def getVecs(self,fileName):\n",
        "\n",
        "        \"\"\"returns list of vectors expects filename as input\"\"\"\n",
        "\n",
        "        assert os.path.isfile(fileName),f\"No file found at {fileName}\"\n",
        "\n",
        "        vectors_list = []\n",
        "\n",
        "\n",
        "        with open(fileName,\"r\") as file:\n",
        "            lines = file.readlines()\n",
        "\n",
        "        all_text = \".\".join(lines)\n",
        "\n",
        "        max_len = len(all_text)\n",
        "\n",
        "        start = 0\n",
        "        end = min(self.chunk_size,max_len)\n",
        "\n",
        "\n",
        "        while(end<max_len):\n",
        "\n",
        "\n",
        "            chunk = all_text[start:end]\n",
        "            vec = torch.squeeze(self.vectorizer.vectorize_text(chunk))\n",
        "            vectors_list.append(vec)\n",
        "\n",
        "            start = end\n",
        "            end += self.chunk_size\n",
        "\n",
        "            end = min(end,max_len)\n",
        "\n",
        "        chunk = all_text[start:end]\n",
        "        vec = torch.squeeze(self.vectorizer.vectorize_text(chunk))\n",
        "        vectors_list.append(vec)\n",
        "\n",
        "        # creating unique feature vector\n",
        "        if len(lines) > 1:\n",
        "          split_line = lines[1].split(\" \")\n",
        "        else:\n",
        "          split_line = lines[0].split(\" \")\n",
        "\n",
        "        if len(split_line) >= 3:\n",
        "            self.unique_feature = torch.squeeze(self.vectorizer.vectorize_text(split_line[2]))\n",
        "        else:\n",
        "            self.unique_feature = torch.squeeze(self.vectorizer.vectorize_text(split_line[0]))\n",
        "\n",
        "        return vectors_list\n",
        "\n",
        "    def gethash(self,fileName):\n",
        "        vecs = self.getVecs(fileName)\n",
        "        digest = self.getXors(vecs)\n",
        "\n",
        "\n",
        "\n",
        "        hash = \" \".join(str(abs(item)) for item in digest)\n",
        "\n",
        "\n",
        "        return hash\n"
      ]
    },
    {
      "cell_type": "markdown",
      "metadata": {
        "id": "wgfMzQm351Qa"
      },
      "source": [
        "**Semantic Attack Strong Collision Resistance**\n"
      ]
    },
    {
      "cell_type": "code",
      "execution_count": 4,
      "metadata": {
        "id": "piY2O4g95Iyc"
      },
      "outputs": [],
      "source": [
        "import json\n",
        "import hashlib\n",
        "import os\n",
        "import matplotlib.pyplot as plt\n",
        "import seaborn as sns"
      ]
    },
    {
      "cell_type": "code",
      "execution_count": 5,
      "metadata": {
        "id": "EiXw5Uqp8JSX",
        "colab": {
          "base_uri": "https://localhost:8080/"
        },
        "outputId": "b1adfc0b-fd8f-44d9-8ce6-03ed74efaeab"
      },
      "outputs": [
        {
          "output_type": "stream",
          "name": "stderr",
          "text": [
            "100%|████████████████████████████████████████| 338M/338M [00:02<00:00, 170MiB/s]\n"
          ]
        }
      ],
      "source": [
        "hasher = Processor()"
      ]
    },
    {
      "cell_type": "code",
      "source": [
        "def parse_document(document):\n",
        "    # Your document parsing logic goes here\n",
        "    # This is a placeholder example:\n",
        "    parsed_data = {\n",
        "        \"text\": document,\n",
        "        \"hash\": hasher.gethash(document)\n",
        "    }\n",
        "    return parsed_data"
      ],
      "metadata": {
        "id": "SpUJBaJuLb3u"
      },
      "execution_count": null,
      "outputs": []
    },
    {
      "cell_type": "code",
      "source": [
        "def save_to_json(parsed_data, filename):\n",
        "    output_filename = filename + \".json\"\n",
        "    with open(output_filename, \"w\") as json_file:\n",
        "        json.dump(parsed_data, json_file, indent=4)\n",
        "    return output_filename"
      ],
      "metadata": {
        "id": "MTl3v1ZPL7x0"
      },
      "execution_count": null,
      "outputs": []
    },
    {
      "cell_type": "code",
      "source": [
        "def check_duplicates(new_file, existing_files):\n",
        "    new_hash = new_file[\"hash\"]\n",
        "    for filename, parsed_data in existing_files.items():\n",
        "        if parsed_data[\"hash\"] == new_hash:\n",
        "            return filename\n",
        "    return None\n"
      ],
      "metadata": {
        "id": "z0FykMsLL_Kq"
      },
      "execution_count": null,
      "outputs": []
    },
    {
      "cell_type": "code",
      "source": [
        "def main():\n",
        "    input_directory = \"/content/documents\"\n",
        "    output_directory = \"parsed_documents\"\n",
        "    duplicates_file = \"duplicates.json\"\n",
        "    existing_files = {}\n",
        "\n",
        "    # Check if output directory exists, if not, create it\n",
        "    if not os.path.exists(output_directory):\n",
        "        os.makedirs(output_directory)\n",
        "\n",
        "    for filename in os.listdir(input_directory):\n",
        "        # with open(os.path.join(input_directory, filename), \"r\") as file:\n",
        "        #     # document = file.read()\n",
        "            parsed_data = parse_document(os.path.join(input_directory, filename))\n",
        "            duplicate_filename = check_duplicates(parsed_data, existing_files)\n",
        "            if duplicate_filename:\n",
        "                print(f\"Found duplicate content in {filename} and {duplicate_filename}.\")\n",
        "                existing_files[duplicate_filename][\"duplicates\"].append(filename)\n",
        "                continue\n",
        "            output_filename = save_to_json(parsed_data, os.path.splitext(filename)[0])\n",
        "            existing_files[output_filename] = {\"hash\": parsed_data[\"hash\"], \"duplicates\": [filename]}\n",
        "\n",
        "    # Writing duplicates information to a JSON file\n",
        "    with open(duplicates_file, \"w\") as dup_json_file:\n",
        "        json.dump(existing_files, dup_json_file, indent=4)"
      ],
      "metadata": {
        "id": "oqlhmAUDMB23"
      },
      "execution_count": null,
      "outputs": []
    },
    {
      "cell_type": "code",
      "source": [
        "if __name__ == \"__main__\":\n",
        "    main()\n"
      ],
      "metadata": {
        "id": "VTKUiQyFMEzC"
      },
      "execution_count": null,
      "outputs": []
    },
    {
      "cell_type": "code",
      "source": [
        "file1 = \"doc1_2.json\"\n",
        "file2 = \"doc1_3.json\"\n",
        "file3 = \"doc1_1.json\""
      ],
      "metadata": {
        "id": "iYULhYPZMHYi"
      },
      "execution_count": null,
      "outputs": []
    },
    {
      "cell_type": "code",
      "source": [
        "import json\n",
        "import matplotlib.pyplot as plt\n",
        "\n",
        "def read_json(file_path):\n",
        "    with open(file_path, 'r') as file:\n",
        "        data = json.load(file)\n",
        "    return data[\"hash\"]\n",
        "\n",
        "def calculate_char_match(hash1, hash2):\n",
        "    char_match_count = sum(c1 == c2 for c1, c2 in zip(hash1, hash2))\n",
        "    return char_match_count\n",
        "\n",
        "def calculate_total_chars(hash1, hash2):\n",
        "    total_chars_count = len(hash1) + len(hash2)\n",
        "    return total_chars_count\n",
        "\n",
        "def main():\n",
        "    file1_hash = read_json(file1)\n",
        "    file2_hash = read_json(file2)\n",
        "    file3_hash = read_json(file3)\n",
        "\n",
        "    # Calculate the maximum number of characters in any file's hash\n",
        "    max_chars = max(len(file1_hash), len(file2_hash), len(file3_hash))\n",
        "\n",
        "    # Calculate the number of matched characters in hash values\n",
        "    char_match_file1_file2 = calculate_char_match(file1_hash, file2_hash)\n",
        "    char_match_file1_file3 = calculate_char_match(file1_hash, file3_hash)\n",
        "    char_match_file2_file3 = calculate_char_match(file2_hash, file3_hash)\n",
        "\n",
        "    print(\"Number of matched characters between File 1 and File 2:\", char_match_file1_file2)\n",
        "    print(\"Number of matched characters between File 1 and File 3:\", char_match_file1_file3)\n",
        "    print(\"Number of matched characters between File 2 and File 3:\", char_match_file2_file3)\n",
        "\n",
        "    # Visualize the relationship between matched and mismatched characters\n",
        "    labels = ['Max Characters', 'File 1 & File 2', 'File 1 & File 3', 'File 2 & File 3']\n",
        "    values = [max_chars, char_match_file1_file2, char_match_file1_file3, char_match_file2_file3]\n",
        "\n",
        "    plt.bar(labels, values, color = ['#4CAF50', '#2196F3', '#FF9800', '#FF5722']\n",
        ")\n",
        "    plt.xlabel('File Pairs')\n",
        "    plt.ylabel('Characters')\n",
        "    plt.title('Max Characters and Matched Characters in Hash Values')\n",
        "    plt.show()\n",
        "\n",
        "if __name__ == \"__main__\":\n",
        "    main()\n"
      ],
      "metadata": {
        "id": "sqpjkLGDMLUr"
      },
      "execution_count": null,
      "outputs": []
    },
    {
      "cell_type": "markdown",
      "source": [
        "**Weak Collision resistance attack**"
      ],
      "metadata": {
        "id": "rjRaTpU4MQuK"
      }
    },
    {
      "cell_type": "code",
      "execution_count": 6,
      "metadata": {
        "id": "50CQ2bQrRE05"
      },
      "outputs": [],
      "source": [
        "def save_modified_text(filename, text):\n",
        "    # Constructing the filename for the modified text\n",
        "    modified_filename = os.path.splitext(filename)[0] + \"_modified.txt\"\n",
        "\n",
        "    # Saving the modified text to the file\n",
        "    with open(modified_filename, \"w\") as file:\n",
        "        file.write(text)\n",
        "\n",
        "    return modified_filename"
      ]
    },
    {
      "cell_type": "code",
      "execution_count": 7,
      "metadata": {
        "id": "Fib732E46LfG"
      },
      "outputs": [],
      "source": [
        "def parse_document(filename):\n",
        "\n",
        "    modified_documents = []\n",
        "\n",
        "    try:\n",
        "        with open(filename, \"r\") as file:\n",
        "            lines = file.read()\n",
        "\n",
        "        all_text = \"\".join(lines)\n",
        "        max_len = len(all_text)\n",
        "\n",
        "        first_doc = {\"text\": lines , \"hash\": hasher.gethash(filename)}\n",
        "        modified_documents.append(first_doc)\n",
        "\n",
        "        for i in range(max_len):\n",
        "            modified_text = all_text[:i] + chr((ord(all_text[i]) + 1) % 256) + all_text[i+1:]\n",
        "            # Save the modified text to a separate file\n",
        "            modified_filename = save_modified_text(filename, modified_text)\n",
        "\n",
        "            hash_value = hasher.gethash(modified_filename)\n",
        "\n",
        "            modified_doc = {\"text\": modified_text, \"hash\": hash_value}\n",
        "\n",
        "            modified_documents.append(modified_doc)\n",
        "\n",
        "        return modified_documents\n",
        "\n",
        "    except FileNotFoundError:\n",
        "        print(\"File not found.\")\n",
        "        return []"
      ]
    },
    {
      "cell_type": "code",
      "execution_count": 8,
      "metadata": {
        "id": "BfyvbPoJ6OCr"
      },
      "outputs": [],
      "source": [
        "def save_to_json(documents, filename):\n",
        "    with open(filename, \"w\") as json_file:\n",
        "        json.dump(documents, json_file, indent=4)"
      ]
    },
    {
      "cell_type": "code",
      "execution_count": 9,
      "metadata": {
        "id": "gu-YNU6ABdWR"
      },
      "outputs": [],
      "source": [
        "def load_documents(filename):\n",
        "    try:\n",
        "        with open(filename, \"r\") as json_file:\n",
        "            documents = json.load(json_file)\n",
        "    except FileNotFoundError:\n",
        "        documents = []\n",
        "    return documents"
      ]
    },
    {
      "cell_type": "code",
      "execution_count": 10,
      "metadata": {
        "id": "26SwTGn_6QdM"
      },
      "outputs": [],
      "source": [
        "def check_duplicate_hash(new_hash, documents):\n",
        "    for doc in documents:\n",
        "        if doc[\"hash\"] == new_hash:\n",
        "            return doc[\"text\"]\n",
        "    return None"
      ]
    },
    {
      "cell_type": "code",
      "execution_count": 15,
      "metadata": {
        "id": "YZbWgtxK6S_z"
      },
      "outputs": [],
      "source": [
        "def main(input_file, saved_documents_file):\n",
        "    output_file = \"parsed_document.json\"\n",
        "\n",
        "    # Load existing documents\n",
        "    saved_documents = load_documents(saved_documents_file)\n",
        "\n",
        "    try:\n",
        "        modified_documents = parse_document(input_file)\n",
        "\n",
        "        for modified_doc in modified_documents:\n",
        "            if check_duplicate_hash(modified_doc[\"hash\"], saved_documents):\n",
        "                print(f\"Found duplicate content for hash: {modified_doc['text']} :  {modified_doc['hash']}\")\n",
        "                continue\n",
        "\n",
        "            # Save modified document to the list of saved documents\n",
        "            saved_documents.append(modified_doc)\n",
        "\n",
        "        # Save the list of modified documents to a single JSON file\n",
        "        save_to_json(saved_documents, saved_documents_file)\n",
        "\n",
        "        print(\"Document processed successfully.\")\n",
        "\n",
        "\n",
        "    except FileNotFoundError:\n",
        "        print(\"File not found.\")"
      ]
    },
    {
      "cell_type": "code",
      "execution_count": 12,
      "metadata": {
        "id": "NMM4eXnfXLcr"
      },
      "outputs": [],
      "source": [
        "def graphPlotter(json_file):\n",
        "\n",
        "  # Read data from JSON file\n",
        "  with open(json_file, 'r') as file:\n",
        "      data = json.load(file)\n",
        "\n",
        "  # Calculate hash difference\n",
        "  hash_diff = [0]\n",
        "  for i in range(1, len(data)):\n",
        "      diff = sum(1 for x, y in zip(data[0]['hash'], data[i]['hash']) if x != y)\n",
        "      hash_diff.append(diff)\n",
        "\n",
        "  # Plotting\n",
        "  plt.figure(figsize=(10, 6))\n",
        "  plt.plot(range(len(hash_diff)), hash_diff, marker='o', linestyle='-', color='b')\n",
        "  plt.title('Hash Difference for Changing a Single Character')\n",
        "  plt.xlabel('Index of Character Changed')\n",
        "  plt.ylabel('Hash Difference')\n",
        "  plt.xticks([0, len(data) - 1], [f'Change 1', f'Change {len(data)}'])\n",
        "  plt.grid(True)\n",
        "  plt.show()\n"
      ]
    },
    {
      "cell_type": "code",
      "execution_count": 16,
      "metadata": {
        "id": "PiS0kUd46XGf",
        "colab": {
          "base_uri": "https://localhost:8080/",
          "height": 581
        },
        "outputId": "5d871b49-c6c5-4ec8-b6d0-c0f09aef5c89"
      },
      "outputs": [
        {
          "output_type": "stream",
          "name": "stdout",
          "text": [
            "Document processed successfully.\n"
          ]
        },
        {
          "output_type": "display_data",
          "data": {
            "text/plain": [
              "<Figure size 1000x600 with 1 Axes>"
            ],
            "image/png": "[encoded data removed]"
          },
          "metadata": {}
        }
      ],
      "source": [
        "if __name__ == \"__main__\":\n",
        "    input_file = \"/content/input.txt\"\n",
        "    saved_documents_file = \"saved_documents.json\"\n",
        "    main(input_file, saved_documents_file)\n",
        "    graphPlotter(saved_documents_file)\n"
      ]
    },
    {
      "cell_type": "code",
      "execution_count": 18,
      "metadata": {
        "id": "j_YUDGlsRaNm",
        "colab": {
          "base_uri": "https://localhost:8080/"
        },
        "outputId": "b50dfd93-6fb8-4053-f47c-b2d58e811ad3"
      },
      "outputs": [
        {
          "output_type": "stream",
          "name": "stdout",
          "text": [
            "Content :  this is a test file.\n",
            "Hash :  1 3 3 1 2 1 2 13 1 7 1 1 2 2 0 1 6 1 2 4 2 3 0 3 2 3 2 0 1 3 2 0 1 2 4 0 2 1 3 2 0 2 3 2 2 4 4 1 1 2 2 2 1 0 3 1 3 2 2 0 7 1 3 2 1 0 1 2 4 1 1 1 3 1 0 1 3 3 1 1 3 0 1 0 0 3 3 3 3 2 0 0 3 2 1 4 1 0 3 0 3 1 2 3 3 0 0 1 1 1 1 0 1 1 1 2 4 2 4 0 1 2 0 0 1 0 3 1 2 4 0 2 3 6 6 4 1 3 1 1 1 1 1 7 3 2 0 1 3 1 1 1 3 2 1 0 4 1 3 4 5 3 0 2 4 1 2 1 1 2 1 2 3 1 4 2 1 0 3 2 2 0 3 3 1 5 0 4 2 3 2 1 0 1 0 2 1 2 0 0 2 2 1 3 2 0 0 4 4 0 5 5 2 1 2 1 1 1 2 4 2 3 0 2 1 0 0 1 4 1 1 2 2 1 0 1 3 1 1 2 0 6 2 1 0 1 0 2 2 2 3 2 3 3 3 0 2 0 0 7 2 0 6 2 4 3 2 2 2 3 0 1 4 5 0 0 2 3 1 0 1 0 1 4 0 2 2 2 1 0 4 3 2 3 0 0 5 1 1 4 0 2 1 2 1 1 0 0 1 2 0 4 6 0 1 1 2 6 1 0 0 0 3 1 0 1 1 1 1 15 0 2 2 0 3 3 1 3 2 3 0 4 2 4 0 1 0 3 3 1 4 1 1 1 0 0 0 4 1 0 3 3 3 6 1 1 2 1 2 3 0 0 0 3 4 0 3 1 11 0 1 0 0 7 1 1 1 2 1 1 6 4 0 4 2 1 1 3 3 3 0 0 0 0 1 3 1 1 4 1 1 0 4 3 1 0 1 2 0 2 0 1 2 0 3 2 2 3 2 4 1 2 0 1 1 1 1 0 1 0 1 3 2 1 1 4 1 3 2 3 1 3 0 6 0 5 2 3 2 1 2 0 2 0 5 1 3 2 0 1 1 2 7 0 4 3 0 0 2 5 3 13 0 1 1 1 1 3 0 1 1 1 1 8 2 0 2 0 1 6 3 1 1 1 3 2 1 0 2 8 1 1\n"
          ]
        }
      ],
      "source": [
        "hash_val = hasher.gethash(\"input.txt\")\n",
        "with open(\"input.txt\",\"r\") as file:\n",
        "  text = file.read()\n",
        "\n",
        "print(\"Content : \", text)\n",
        "print(\"Hash : \",hash_val)"
      ]
    }
  ],
  "metadata": {
    "accelerator": "GPU",
    "colab": {
      "gpuType": "T4",
      "provenance": []
    },
    "kernelspec": {
      "display_name": "Python 3",
      "name": "python3"
    },
    "language_info": {
      "name": "python"
    }
  },
  "nbformat": 4,
  "nbformat_minor": 0
}